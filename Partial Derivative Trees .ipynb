{
 "cells": [
  {
   "cell_type": "code",
   "execution_count": 20,
   "metadata": {},
   "outputs": [
    {
     "ename": "SyntaxError",
     "evalue": "invalid syntax (<ipython-input-20-6346ccaf8dea>, line 78)",
     "output_type": "error",
     "traceback": [
      "\u001b[1;36m  File \u001b[1;32m\"<ipython-input-20-6346ccaf8dea>\"\u001b[1;36m, line \u001b[1;32m78\u001b[0m\n\u001b[1;33m    print(e1)\u001b[0m\n\u001b[1;37m    ^\u001b[0m\n\u001b[1;31mSyntaxError\u001b[0m\u001b[1;31m:\u001b[0m invalid syntax\n"
     ]
    }
   ],
   "source": [
    "import matplotlib.pyplot as plt \n",
    "import time \n",
    "from tkinter import TclError\n",
    "from scipy.fftpack import fft\n",
    "import os \n",
    "import random \n",
    "\n",
    "\n",
    "class Expr:\n",
    "    pass\n",
    "\n",
    "class Var (Expr) : \n",
    "    \n",
    "    def __init__(self,name) :\n",
    "        self.name = name\n",
    "    \n",
    "    def __str__(self) :\n",
    "        return self.name\n",
    "\n",
    "    def eval(self,env) :\n",
    "        return env[self.name]\n",
    "    \n",
    "    def deriv(self,var) : \n",
    "        if self.name == var :\n",
    "            return Const(1)\n",
    "        else : \n",
    "            return Const(0)\n",
    "    \n",
    "class Const (Expr) :\n",
    "    \n",
    "    def __init__(self,val) :\n",
    "        self.val = val\n",
    "        \n",
    "    def __str__(self) : \n",
    "        return str(self.val)\n",
    "    \n",
    "    def eval(self,env) :\n",
    "        return self.val\n",
    "    \n",
    "    def deriv(self,var) : \n",
    "        return Const(0)\n",
    "    \n",
    "class Plus (Expr) :\n",
    "    \n",
    "    def __init__(self,left,right) :\n",
    "        self.left = left\n",
    "        self.right = right\n",
    "        \n",
    "    def __str__(self) :\n",
    "        return \"(\"+str(self.left)+\"+\"+str(self.right)+\")\"\n",
    "    \n",
    "    def eval(self,val) : \n",
    "        return self.left.eval(env) + self.right.eval(env)\n",
    "    \n",
    "    def deriv(self,var) :\n",
    "        return Plus(self.left.deriv(var),self.right.deriv(var))\n",
    "        \n",
    "    \n",
    "class Mult (Expr) :\n",
    "    def __init__(self,left,right) :\n",
    "        self.left = left\n",
    "        self.right = right\n",
    "        \n",
    "    def __str__(self) :\n",
    "        return \"(\"+str(self.left)+\"*\"+str(self.right)+\")\"\n",
    "    \n",
    "    def eval(self,val) :\n",
    "        return self.left.eval(env) * self.right.eval(env)\n",
    "    \n",
    "    def deriv(self,var) :\n",
    "        return Plus(Mult(self.left.deriv(var),self.right), \n",
    "                    Mult(self.left,self.right.deriv(var)))\n",
    "\n",
    "    e1 = Mult(Plus(Var(\"x\"),Const(3)),Var(\"y\"))\n",
    "\n",
    "e2 = Plus(Var(\"x\"),Mult(Const(3),Var(\"y\"))\n",
    "\n",
    "print(e1)\n",
    "print(e2)"
   ]
  },
  {
   "cell_type": "code",
   "execution_count": null,
   "metadata": {},
   "outputs": [],
   "source": []
  }
 ],
 "metadata": {
  "kernelspec": {
   "display_name": "Python 3",
   "language": "python",
   "name": "python3"
  },
  "language_info": {
   "codemirror_mode": {
    "name": "ipython",
    "version": 3
   },
   "file_extension": ".py",
   "mimetype": "text/x-python",
   "name": "python",
   "nbconvert_exporter": "python",
   "pygments_lexer": "ipython3",
   "version": "3.8.3"
  }
 },
 "nbformat": 4,
 "nbformat_minor": 4
}
